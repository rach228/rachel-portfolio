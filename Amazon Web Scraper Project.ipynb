{
 "cells": [
  {
   "cell_type": "code",
   "execution_count": 24,
   "id": "6b617078",
   "metadata": {},
   "outputs": [],
   "source": [
    "# Import libraries \n",
    "\n",
    "from bs4 import BeautifulSoup\n",
    "import requests\n",
    "import time\n",
    "import datetime\n",
    "\n",
    "import smtplib\n",
    "import csv"
   ]
  },
  {
   "cell_type": "code",
   "execution_count": 28,
   "id": "a2d850aa",
   "metadata": {},
   "outputs": [
    {
     "name": "stdout",
     "output_type": "stream",
     "text": [
      "Bot bypassed\n",
      "BRONAX Pillow Slides for Women and Men | Shower Slippers Bathroom Sandals | Extremely Comfy | Cushioned Thick Sole\n",
      "23.99\n"
     ]
    }
   ],
   "source": [
    "# Connect to Website\n",
    "\n",
    "import requests\n",
    "from bs4 import BeautifulSoup\n",
    "import re\n",
    "import json\n",
    "import pandas as pd\n",
    "from faker import Faker\n",
    "\n",
    "url = 'https://www.amazon.com/BRONAX-Slippers-Non-Slip-Cushioned-Comfortable/dp/B092QWSFY7/ref=pd_rhf_d_dp_s_pd_crcbs_sccl_2_3/146-3858843-9075965?pd_rd_w=QedBJ&content-id=amzn1.sym.31346ea4-6dbc-4ac4-b4f3-cbf5f8cab4b9&pf_rd_p=31346ea4-6dbc-4ac4-b4f3-cbf5f8cab4b9&pf_rd_r=6NDNKGTAPZDSM6CBK627&pd_rd_wg=dA5F2&pd_rd_r=6ae466e3-2182-4fd4-8227-d23909cf4d34&pd_rd_i=B092QWSFY7&th=1&psc=1'\n",
    "\n",
    "\n",
    "def get_soup_retry(url):\n",
    "    fake = Faker()\n",
    "    uag_random = fake.user_agent()\n",
    "\n",
    "    header = {\n",
    "        'User-Agent': uag_random,\n",
    "        'Accept-Language': 'en-US,en;q=0.9'\n",
    "    }\n",
    "    isCaptcha = True\n",
    "    while isCaptcha:\n",
    "        page = requests.get(url, headers=header)\n",
    "        assert page.status_code == 200\n",
    "        soup = BeautifulSoup(page.content, 'lxml')\n",
    "        if 'captcha' in str(soup):\n",
    "            uag_random = fake.user_agent()\n",
    "            print(f'\\rBot has been detected... retrying ... use new identity: {uag_random} ', end='', flush=True)\n",
    "            continue\n",
    "        else:\n",
    "            print('Bot bypassed')\n",
    "            return soup\n",
    "\n",
    "\n",
    "\n",
    "soup = get_soup_retry(url)\n",
    "\n",
    "title = soup.find('span', attrs={'id': 'productTitle'}).text.strip()  # to get the text, and strip is used to remove all the leading and trailing spaces from a string.\n",
    "print(title)\n",
    "\n",
    "price = soup.find(name=\"span\", class_=\"a-offscreen\").text.strip()[1:]\n",
    "print(price)\n",
    "\n",
    "\n"
   ]
  },
  {
   "cell_type": "code",
   "execution_count": 29,
   "id": "6dd9b9e5",
   "metadata": {},
   "outputs": [
    {
     "name": "stdout",
     "output_type": "stream",
     "text": [
      "2023-05-12\n"
     ]
    }
   ],
   "source": [
    "# Create timestamp to track data collection\n",
    "\n",
    "today = datetime.date.today()\n",
    "\n",
    "print(today)"
   ]
  },
  {
   "cell_type": "code",
   "execution_count": 38,
   "id": "e88e04ca",
   "metadata": {},
   "outputs": [],
   "source": [
    "# Create CSV\n",
    "\n",
    "header = ['Title', 'Price', 'Date']\n",
    "data = [title, price, today]\n",
    "\n",
    "with open('AmazonWebScraperDataset.csv', 'w', newline='', encoding='UTF8') as f:\n",
    "    writer = csv.writer(f)\n",
    "    writer.writerow(header)\n",
    "    writer.writerow(data)\n",
    "    "
   ]
  },
  {
   "cell_type": "code",
   "execution_count": 39,
   "id": "c13be87e",
   "metadata": {},
   "outputs": [
    {
     "name": "stdout",
     "output_type": "stream",
     "text": [
      "                                               Title  Price        Date\n",
      "0  BRONAX Pillow Slides for Women and Men | Showe...  23.99  2023-05-12\n"
     ]
    }
   ],
   "source": [
    "# Read the CSV\n",
    "\n",
    "df = pd.read_csv(r'/Users/smu/AmazonWebScraperDataset.csv')\n",
    "\n",
    "print(df)"
   ]
  },
  {
   "cell_type": "code",
   "execution_count": 32,
   "id": "c78924a0",
   "metadata": {},
   "outputs": [],
   "source": [
    "# Append data to the CSV\n",
    "\n",
    "with open('AmazonWebScraperDataset.csv', 'a+', newline='', encoding='UTF8') as f:\n",
    "    writer = csv.writer(f)\n",
    "    writer.writerow(data)"
   ]
  },
  {
   "cell_type": "code",
   "execution_count": 35,
   "id": "a85b8edb",
   "metadata": {},
   "outputs": [],
   "source": [
    "\n",
    "def check_price():\n",
    "    soup = get_soup_retry(url)\n",
    "\n",
    "    title = soup.find('span', attrs={'id': 'productTitle'}).text.strip()  # to get the text, and strip is used to remove all the leading and trailing spaces from a string.\n",
    "    print(title)\n",
    "\n",
    "    price = soup.find(name=\"span\", class_=\"a-offscreen\").text.strip()[1:]\n",
    "    print(price)\n",
    "    \n",
    "    today = datetime.date.today()\n",
    "\n",
    "    header = ['Title', 'Price', 'Date']\n",
    "    data = [title, price, today]\n",
    "    \n",
    "    with open('AmazonWebScraperDataset.csv', 'a+', newline='', encoding='UTF8') as f:\n",
    "        writer = csv.writer(f)\n",
    "        writer.writerow(data)"
   ]
  },
  {
   "cell_type": "code",
   "execution_count": null,
   "id": "d265c006",
   "metadata": {},
   "outputs": [
    {
     "name": "stdout",
     "output_type": "stream",
     "text": [
      "Bot bypassed\n",
      "BRONAX Pillow Slides for Women and Men | Shower Slippers Bathroom Sandals | Extremely Comfy | Cushioned Thick Sole\n",
      "23.99\n"
     ]
    }
   ],
   "source": [
    "# Runs check_price daily and inputs data into the CSV\n",
    "\n",
    "while(True):\n",
    "    check_price()\n",
    "    time.sleep(86400)"
   ]
  },
  {
   "cell_type": "code",
   "execution_count": 40,
   "id": "e7eb011a",
   "metadata": {},
   "outputs": [],
   "source": [
    "# Send myself an email when a price hits below a certain level\n",
    "\n",
    "def send_mail():\n",
    "    server = smtplib.SMTP_SSL('smtp.gmail.com',465)\n",
    "    server.ehlo()\n",
    "    #server.starttls()\n",
    "    server.ehlo()\n",
    "    server.login('rachelma0228@gmail.com','xxxxxxxxxxxxxx')\n",
    "    \n",
    "    subject = \"The Slides you want is below $15! Now is your chance to buy!\"\n",
    "    body = \"Rachel, This is the moment we have been waiting for. Now is your chance to pick up the shirt of your dreams. Don't mess it up! Link here: https://www.amazon.com/BRONAX-Slippers-Non-Slip-Cushioned-Comfortable/dp/B092QWSFY7/ref=pd_rhf_d_dp_s_pd_crcbs_sccl_2_3/146-3858843-9075965?pd_rd_w=QedBJ&content-id=amzn1.sym.31346ea4-6dbc-4ac4-b4f3-cbf5f8cab4b9&pf_rd_p=31346ea4-6dbc-4ac4-b4f3-cbf5f8cab4b9&pf_rd_r=6NDNKGTAPZDSM6CBK627&pd_rd_wg=dA5F2&pd_rd_r=6ae466e3-2182-4fd4-8227-d23909cf4d34&pd_rd_i=B092QWSFY7&th=1&psc=1\"\n",
    "   \n",
    "    msg = f\"Subject: {subject}\\n\\n{body}\"\n",
    "    \n",
    "    server.sendmail(\n",
    "        'rachelma0228@gmail.com',\n",
    "        msg\n",
    "     \n",
    "    )"
   ]
  },
  {
   "cell_type": "code",
   "execution_count": null,
   "id": "89e7cccd",
   "metadata": {},
   "outputs": [],
   "source": []
  }
 ],
 "metadata": {
  "kernelspec": {
   "display_name": "Python 3 (ipykernel)",
   "language": "python",
   "name": "python3"
  },
  "language_info": {
   "codemirror_mode": {
    "name": "ipython",
    "version": 3
   },
   "file_extension": ".py",
   "mimetype": "text/x-python",
   "name": "python",
   "nbconvert_exporter": "python",
   "pygments_lexer": "ipython3",
   "version": "3.10.9"
  }
 },
 "nbformat": 4,
 "nbformat_minor": 5
}
